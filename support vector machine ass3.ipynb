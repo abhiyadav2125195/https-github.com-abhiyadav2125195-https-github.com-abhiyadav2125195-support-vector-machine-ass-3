{
 "cells": [
  {
   "cell_type": "markdown",
   "id": "e94810ec-fe76-496b-8485-55012a512007",
   "metadata": {},
   "source": [
    "# Q1. In order to predict house price based on several characteristics, such as location, square footage, number of bedrooms, etc., you are developing an SVM regression model. Which regression metric in this situation would be the best to employ?"
   ]
  },
  {
   "cell_type": "code",
   "execution_count": null,
   "id": "8d4aafd9-8c02-4862-b683-a2f5d0b42e1d",
   "metadata": {},
   "outputs": [],
   "source": [
    "import pandas as pd\n",
    "import numpy as np\n",
    "import seaborn as sns\n",
    "import matplotlib.pyplot as plt\n",
    "%matplotlib inline\n",
    "its showing when i am try to upload the data into lab\n",
    "\n",
    "#Invalid response: 413 Request Entity Too Large"
   ]
  },
  {
   "cell_type": "markdown",
   "id": "c9c60a3c-205c-4c3b-858a-1b740eff3b77",
   "metadata": {},
   "source": [
    "# Q2. You have built an SVM regression model and are trying to decide between using MSE or R-squared as your evaluation metric. Which metric would be more appropriate if your goal is to predict the actual price of a house as accurately as possible?"
   ]
  },
  {
   "cell_type": "markdown",
   "id": "abc58fd7-92cf-4cc2-a2f2-018f79080b89",
   "metadata": {},
   "source": [
    " If your goal is to predict the actual price of a house as accurately as possible, you should use Mean Squared Error (MSE) as your evaluation metric. MSE directly penalizes larger errors more than smaller ones, and it is a common choice for regression problems where accuracy is a primary concern."
   ]
  },
  {
   "cell_type": "markdown",
   "id": "14ccda06-109d-49ad-92fa-1a5b5c281b86",
   "metadata": {},
   "source": [
    "# Q3. You have a dataset with a significant number of outliers and are trying to select an appropriate regression metric to use with your SVM model. Which metric would be the most appropriate in this scenario?\n"
   ]
  },
  {
   "cell_type": "markdown",
   "id": "64c680e0-89b7-41cc-a8e8-19c7cbd251c9",
   "metadata": {},
   "source": [
    " When dealing with a dataset that has a significant number of outliers, it is advisable to use metrics that are less sensitive to outliers. Mean Absolute Error (MAE) or the Huber loss function can be more appropriate in such scenarios. MAE calculates the average absolute difference between predicted and actual values, and the Huber loss combines the best characteristics of both MAE and MSE, providing a balance between robustness to outliers and overall prediction accuracy."
   ]
  },
  {
   "cell_type": "markdown",
   "id": "f135e078-335d-478f-b27d-bd797686abef",
   "metadata": {},
   "source": [
    "# Q4. You have built an SVM regression model using a polynomial kernel and are trying to select the best metric to evaluate its performance. You have calculated both MSE and RMSE and found that both values are very close. Which metric should you choose to use in this case?"
   ]
  },
  {
   "cell_type": "markdown",
   "id": "0a9fc542-bd4e-49e0-a74f-ffae0d554aea",
   "metadata": {},
   "source": [
    " If both Mean Squared Error (MSE) and Root Mean Square Error (RMSE) values are very close after evaluating your SVM regression model using a polynomial kernel, it is generally acceptable to choose RMSE as the evaluation metric. RMSE has the advantage of being in the same units as the target variable (house prices in this case), making it more interpretable and directly comparable to the scale of the problem."
   ]
  },
  {
   "cell_type": "markdown",
   "id": "803897bb-7fba-4b92-8b64-beebee79ed56",
   "metadata": {},
   "source": [
    "# Q5. You are comparing the performance of different SVM regression models using different kernels (linear, polynomial, and RBF) and are trying to select the best evaluation metric. Which metric would be most appropriate if your goal is to measure how well the model explains the variance in the target variable?"
   ]
  },
  {
   "cell_type": "code",
   "execution_count": null,
   "id": "b85cd30e-5d0b-4f54-b84f-118b3849bc7d",
   "metadata": {},
   "outputs": [],
   "source": []
  }
 ],
 "metadata": {
  "kernelspec": {
   "display_name": "Python 3 (ipykernel)",
   "language": "python",
   "name": "python3"
  },
  "language_info": {
   "codemirror_mode": {
    "name": "ipython",
    "version": 3
   },
   "file_extension": ".py",
   "mimetype": "text/x-python",
   "name": "python",
   "nbconvert_exporter": "python",
   "pygments_lexer": "ipython3",
   "version": "3.10.8"
  }
 },
 "nbformat": 4,
 "nbformat_minor": 5
}
